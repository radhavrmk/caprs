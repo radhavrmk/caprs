{
 "cells": [
  {
   "cell_type": "code",
   "execution_count": 3,
   "metadata": {},
   "outputs": [],
   "source": [
    "import pandas as pd\n",
    "import re\n",
    "pd.set_option('display.max_columns', 300)\n",
    "pd.set_option('display.max_rows', 200)\n",
    "\n",
    "import matplotlib.pyplot as plt\n",
    "import seaborn as sns\n",
    "\n",
    "%matplotlib inline\n",
    "\n",
    "sns.set(palette=\"magma_r\")"
   ]
  },
  {
   "cell_type": "code",
   "execution_count": 8,
   "metadata": {},
   "outputs": [],
   "source": [
    "df_users = pd.read_csv(\"../..//data/processed/users.csv\")\n",
    "df_items = pd.read_csv(\"../..//data/processed/items.csv\")\n"
   ]
  },
  {
   "cell_type": "code",
   "execution_count": 11,
   "metadata": {},
   "outputs": [
    {
     "name": "stdout",
     "output_type": "stream",
     "text": [
      "<class 'pandas.core.frame.DataFrame'>\n",
      "RangeIndex: 120 entries, 0 to 119\n",
      "Data columns (total 34 columns):\n",
      "user_id                             120 non-null int64\n",
      "style_age_range_group               120 non-null int64\n",
      "style_size_preference_none          120 non-null int64\n",
      "style_size_preference_petite        120 non-null int64\n",
      "style_size_preference_extra_long    120 non-null int64\n",
      "style_size_preference_plus          120 non-null int64\n",
      "style_size_preference_maternity     120 non-null int64\n",
      "style_size_preference_skipped       120 non-null int64\n",
      "style_looks_wanted_skipped          120 non-null int64\n",
      "style_most_important_active         120 non-null int64\n",
      "style_most_important_any            120 non-null int64\n",
      "style_most_important_beach          120 non-null int64\n",
      "style_most_important_dress          120 non-null int64\n",
      "style_most_important_bags           120 non-null int64\n",
      "style_most_important_jeans          120 non-null int64\n",
      "style_most_important_jump           120 non-null int64\n",
      "style_most_important_nothing        120 non-null int64\n",
      "style_most_important_outwear        120 non-null int64\n",
      "style_most_important_pants          120 non-null int64\n",
      "style_most_important_shoes          120 non-null int64\n",
      "style_most_important_tops           120 non-null int64\n",
      "style_most_important_skipped        120 non-null int64\n",
      "ariellecharnas                      120 non-null int64\n",
      "blaireadiebee                       120 non-null int64\n",
      "blakevond                           120 non-null int64\n",
      "chiaraferragni                      120 non-null int64\n",
      "hannahbronfman                      120 non-null int64\n",
      "jordynwoods                         120 non-null int64\n",
      "manrepeller                         120 non-null int64\n",
      "mayemusk                            120 non-null int64\n",
      "nicolettemason                      120 non-null int64\n",
      "seaofshoes                          120 non-null int64\n",
      "somethingnavy                       120 non-null int64\n",
      "weworewhat                          120 non-null int64\n",
      "dtypes: int64(34)\n",
      "memory usage: 32.0 KB\n"
     ]
    }
   ],
   "source": [
    "df_users.info()"
   ]
  },
  {
   "cell_type": "code",
   "execution_count": 10,
   "metadata": {
    "scrolled": false
   },
   "outputs": [
    {
     "name": "stdout",
     "output_type": "stream",
     "text": [
      "<class 'pandas.core.frame.DataFrame'>\n",
      "RangeIndex: 9333 entries, 0 to 9332\n",
      "Data columns (total 14 columns):\n",
      "user_id                9333 non-null int64\n",
      "brand_id               9333 non-null object\n",
      "store_id               9333 non-null object\n",
      "product_id             9333 non-null object\n",
      "item_name_lower        9333 non-null object\n",
      "product_category_id    9333 non-null int64\n",
      "paid_price             9333 non-null float64\n",
      "list_price             9333 non-null float64\n",
      "size                   6085 non-null object\n",
      "color_parsed           9333 non-null object\n",
      "on_sale                9333 non-null bool\n",
      "part_of_order          9333 non-null bool\n",
      "top_brand              9333 non-null bool\n",
      "color                  1030 non-null object\n",
      "dtypes: bool(3), float64(2), int64(2), object(7)\n",
      "memory usage: 829.5+ KB\n"
     ]
    }
   ],
   "source": [
    "df_items.info()"
   ]
  },
  {
   "cell_type": "code",
   "execution_count": null,
   "metadata": {},
   "outputs": [],
   "source": [
    "df_products = df_items[]"
   ]
  }
 ],
 "metadata": {
  "kernelspec": {
   "display_name": "Python 3",
   "language": "python",
   "name": "python3"
  },
  "language_info": {
   "codemirror_mode": {
    "name": "ipython",
    "version": 3
   },
   "file_extension": ".py",
   "mimetype": "text/x-python",
   "name": "python",
   "nbconvert_exporter": "python",
   "pygments_lexer": "ipython3",
   "version": "3.6.8"
  }
 },
 "nbformat": 4,
 "nbformat_minor": 2
}
