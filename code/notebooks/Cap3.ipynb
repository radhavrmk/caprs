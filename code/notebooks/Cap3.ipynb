{
 "cells": [
  {
   "cell_type": "code",
   "execution_count": 1,
   "metadata": {},
   "outputs": [],
   "source": [
    "# !pip install scikit-surprise\n",
    "# !conda install -c conda-forge scikit-surprise"
   ]
  },
  {
   "cell_type": "code",
   "execution_count": 2,
   "metadata": {},
   "outputs": [],
   "source": [
    "import pandas as pd\n",
    "import re\n",
    "import numpy as np\n",
    "import random\n",
    "from scipy.stats import uniform as sp_rand\n",
    "from scipy.stats import randint\n",
    "pd.set_option('display.max_columns', 300)\n",
    "pd.set_option('display.max_rows', 200)\n"
   ]
  },
  {
   "cell_type": "code",
   "execution_count": 3,
   "metadata": {},
   "outputs": [],
   "source": [
    "from surprise import Reader\n",
    "from surprise import SVD, SVDpp\n",
    "from surprise import KNNBasic, KNNBaseline, KNNWithZScore, KNNWithMeans\n",
    "from surprise import accuracy\n",
    "from surprise import Dataset\n",
    "from surprise.model_selection import train_test_split\n",
    "from surprise.model_selection import cross_validate, GridSearchCV, RandomizedSearchCV"
   ]
  },
  {
   "cell_type": "code",
   "execution_count": 4,
   "metadata": {},
   "outputs": [],
   "source": [
    "my_seed = 55\n",
    "random.seed(my_seed)\n",
    "np.random.seed(my_seed)"
   ]
  },
  {
   "cell_type": "code",
   "execution_count": 5,
   "metadata": {},
   "outputs": [
    {
     "data": {
      "text/plain": [
       "Index(['user_id', 'brand_id', 'store_id', 'product_id', 'item_name_lower',\n",
       "       'product_category_id', 'paid_price', 'size', 'on_sale', 'part_of_order',\n",
       "       'top_brand', 'color', 'Category Name', 'price_bin'],\n",
       "      dtype='object')"
      ]
     },
     "execution_count": 5,
     "metadata": {},
     "output_type": "execute_result"
    }
   ],
   "source": [
    "df_users = pd.read_csv(\"../..//data/processed/users.csv\")\n",
    "df_items = pd.read_csv(\"../..//data/processed/items.csv\")\n",
    "df_items.item_name_lower = df_items.item_name_lower.map(lambda x : x[:25])\n",
    "df_items.columns"
   ]
  },
  {
   "cell_type": "code",
   "execution_count": 6,
   "metadata": {},
   "outputs": [
    {
     "data": {
      "text/html": [
       "<div>\n",
       "<style scoped>\n",
       "    .dataframe tbody tr th:only-of-type {\n",
       "        vertical-align: middle;\n",
       "    }\n",
       "\n",
       "    .dataframe tbody tr th {\n",
       "        vertical-align: top;\n",
       "    }\n",
       "\n",
       "    .dataframe thead th {\n",
       "        text-align: right;\n",
       "    }\n",
       "</style>\n",
       "<table border=\"1\" class=\"dataframe\">\n",
       "  <thead>\n",
       "    <tr style=\"text-align: right;\">\n",
       "      <th></th>\n",
       "      <th>brand_id</th>\n",
       "      <th>product_id</th>\n",
       "      <th>item_name_lower</th>\n",
       "      <th>product_category_id</th>\n",
       "      <th>size</th>\n",
       "      <th>on_sale</th>\n",
       "      <th>price_bin</th>\n",
       "    </tr>\n",
       "  </thead>\n",
       "  <tbody>\n",
       "    <tr>\n",
       "      <th>0</th>\n",
       "      <td>loft</td>\n",
       "      <td>62733a41</td>\n",
       "      <td>petite textured pencil pa</td>\n",
       "      <td>123 - Pants</td>\n",
       "      <td>NaN</td>\n",
       "      <td>False</td>\n",
       "      <td>3</td>\n",
       "    </tr>\n",
       "    <tr>\n",
       "      <th>1</th>\n",
       "      <td>loft</td>\n",
       "      <td>7ca9f965</td>\n",
       "      <td>blurred fairisle sweater</td>\n",
       "      <td>114 - Knits</td>\n",
       "      <td>NaN</td>\n",
       "      <td>False</td>\n",
       "      <td>3</td>\n",
       "    </tr>\n",
       "    <tr>\n",
       "      <th>2</th>\n",
       "      <td>loft</td>\n",
       "      <td>6273435d</td>\n",
       "      <td>lou grey eyelash sweater</td>\n",
       "      <td>114 - Knits</td>\n",
       "      <td>NaN</td>\n",
       "      <td>False</td>\n",
       "      <td>3</td>\n",
       "    </tr>\n",
       "    <tr>\n",
       "      <th>3</th>\n",
       "      <td>loft</td>\n",
       "      <td>62732b46</td>\n",
       "      <td>petite plaid pencil pants</td>\n",
       "      <td>123 - Pants</td>\n",
       "      <td>NaN</td>\n",
       "      <td>False</td>\n",
       "      <td>3</td>\n",
       "    </tr>\n",
       "    <tr>\n",
       "      <th>4</th>\n",
       "      <td>loft</td>\n",
       "      <td>627342fa</td>\n",
       "      <td>petite custom stretch tro</td>\n",
       "      <td>123 - Pants</td>\n",
       "      <td>NaN</td>\n",
       "      <td>False</td>\n",
       "      <td>3</td>\n",
       "    </tr>\n",
       "  </tbody>\n",
       "</table>\n",
       "</div>"
      ],
      "text/plain": [
       "  brand_id product_id            item_name_lower product_category_id size  \\\n",
       "0     loft   62733a41  petite textured pencil pa         123 - Pants  NaN   \n",
       "1     loft   7ca9f965   blurred fairisle sweater         114 - Knits  NaN   \n",
       "2     loft   6273435d   lou grey eyelash sweater         114 - Knits  NaN   \n",
       "3     loft   62732b46  petite plaid pencil pants         123 - Pants  NaN   \n",
       "4     loft   627342fa  petite custom stretch tro         123 - Pants  NaN   \n",
       "\n",
       "   on_sale  price_bin  \n",
       "0    False          3  \n",
       "1    False          3  \n",
       "2    False          3  \n",
       "3    False          3  \n",
       "4    False          3  "
      ]
     },
     "execution_count": 6,
     "metadata": {},
     "output_type": "execute_result"
    }
   ],
   "source": [
    "## Unique products\n",
    "products =df_items.copy()\n",
    "products.columns\n",
    "products.drop([\"user_id\",\"store_id\",\"paid_price\",\"part_of_order\",\"top_brand\",\"color\", \"Category Name\"],axis=1, inplace=True)\n",
    "products.drop_duplicates(subset=\"product_id\", inplace=True)\n",
    "products.head()"
   ]
  },
  {
   "cell_type": "code",
   "execution_count": 7,
   "metadata": {},
   "outputs": [],
   "source": [
    "\"\"\"\n",
    "This function creates a sparse matrix and a simple group by for user - product combinations\n",
    "When store_cat is set to True, it uses product category and store as proxy for product \n",
    "Note : change this to create sparse matrices instead of returning pandas dataframes\n",
    "\"\"\"\n",
    "def get_user_prod_matrix(df, store_cat = True):\n",
    "    df_items[\"store_cat\"] = df_items.apply(lambda x : x[\"store_id\"] + \" - \"+ str(x[\"product_category_id\"]), axis=1)\n",
    "    \n",
    "    if store_cat:\n",
    "        sparse = pd.pivot_table(df_items, index=\"user_id\", columns=\"store_cat\", values=\"product_id\", aggfunc=\"count\")\n",
    "    else:\n",
    "        sparse = pd.crosstab(index = df_items[\"user_id\"], columns = df_items[\"product_id\"], values=\"product_id\", aggfunc=\"count\")\n",
    "    \n",
    "    grp = sparse.stack().dropna().reset_index()       \n",
    "    grp = grp.rename(columns={0:\"rating\"} )\n",
    "\n",
    "    if store_cat:\n",
    "        grp = grp.rename(columns = {\"store_cat\": \"product_id\"})\n",
    "\n",
    "\n",
    "    return (grp, sparse)"
   ]
  },
  {
   "cell_type": "code",
   "execution_count": 9,
   "metadata": {},
   "outputs": [
    {
     "name": "stdout",
     "output_type": "stream",
     "text": [
      "         user_id                    product_id  rating\n",
      "0  1485369350003   dsw - 210 - Boots & Booties     2.0\n",
      "1  1485369350003              hm - 124 - Jeans     1.0\n",
      "2  1485369350003  jcrewfactory - 111 - Blouses     1.0\n",
      "3  1485369350003    jcrewfactory - 114 - Knits     1.0\n",
      "4  1485369350003          loft - 111 - Blouses     5.0\n",
      "         user_id product_id  rating\n",
      "0  1485369350003   00799605     1.0\n",
      "1  1485369350003   01c00a9f     1.0\n",
      "2  1485369350003   1389d2dd     1.0\n",
      "3  1485369350003   1ff87a10     1.0\n",
      "4  1485369350003   23583555     1.0\n",
      "[1534200663687, 1540229647916, 1530899668174, 1495117820151, 1506291233259]\n"
     ]
    }
   ],
   "source": [
    "x1, y1 = get_user_prod_matrix(df_items)\n",
    "print(x1.head())\n",
    "x2, y2 = get_user_prod_matrix(df_items, False)\n",
    "print(x2.head())\n",
    "unique_user_sample = x2.user_id.sample(5).values.tolist()\n",
    "print(unique_user_sample)\n"
   ]
  },
  {
   "cell_type": "code",
   "execution_count": 10,
   "metadata": {},
   "outputs": [],
   "source": [
    "x1[\"base\"] = \"store_cat\"\n",
    "x2[\"base\"] = \"product\"\n",
    "\n",
    "full_ratings = x1.append(x2).reset_index(drop=True)\n",
    "full_ratings.to_csv(\"../..//data/processed/all_ratings.csv\",index=False)\n",
    "x1.drop(\"base\", axis=1, inplace=True)\n",
    "x2.drop(\"base\", axis=1, inplace=True)"
   ]
  },
  {
   "cell_type": "code",
   "execution_count": 11,
   "metadata": {},
   "outputs": [
    {
     "name": "stdout",
     "output_type": "stream",
     "text": [
      "         user_id                    product_id  rating       base\n",
      "0  1485369350003   dsw - 210 - Boots & Booties     2.0  store_cat\n",
      "1  1485369350003              hm - 124 - Jeans     1.0  store_cat\n",
      "2  1485369350003  jcrewfactory - 111 - Blouses     1.0  store_cat\n",
      "3  1485369350003    jcrewfactory - 114 - Knits     1.0  store_cat\n",
      "4  1485369350003          loft - 111 - Blouses     5.0  store_cat\n",
      "             user_id product_id  rating     base\n",
      "10336  1550516903728   94528138     1.0  product\n",
      "10337  1550516903728   94944126     1.0  product\n",
      "10338  1550516903728   98239982     1.0  product\n",
      "10339  1550516903728   b8d0f825     1.0  product\n",
      "10340  1550516903728   e4abcc38     1.0  product\n"
     ]
    }
   ],
   "source": [
    "print(full_ratings.head())\n",
    "print(full_ratings.tail())"
   ]
  },
  {
   "cell_type": "code",
   "execution_count": 12,
   "metadata": {},
   "outputs": [],
   "source": [
    "def get_user_products(uid, df, n_count=10):\n",
    "    cols_tokeep = [\"product_id\", \"brand_id\", \"product_category_id\", \"rating\",\"price_bin\", \"item_name_lower\"]   \n",
    "    col_names = [\"Product ID\", \"Brand\", \"Category\", \"Times Bought\",\"Price Bin\", \"Descr\"]   \n",
    "\n",
    "\n",
    "    user_products = df[df.user_id==uid]\n",
    "    count = min(user_products.shape[0], n_count)\n",
    "    user_top_products = user_products.sort_values(\"rating\",ascending=False).head(count).merge(products, on=\"product_id\")[cols_tokeep] \n",
    "    user_top_products.columns = col_names\n",
    "    return user_top_products"
   ]
  },
  {
   "cell_type": "code",
   "execution_count": 13,
   "metadata": {},
   "outputs": [],
   "source": [
    "def get_user_storecats(uid, df, n_count=10):\n",
    "    cols_tokeep = [\"product_id\", \"rating\"]   \n",
    "    col_names = [\"Store - Category\", \"Times Bought\"]   \n",
    "\n",
    "\n",
    "    user_products = df[df.user_id==uid]\n",
    "    count = min(user_products.shape[0], n_count)\n",
    "    user_top_products = user_products.sort_values(\"rating\",ascending=False).head(count)[cols_tokeep]\n",
    "    user_top_products.columns = col_names\n",
    "    return user_top_products"
   ]
  },
  {
   "cell_type": "code",
   "execution_count": 14,
   "metadata": {},
   "outputs": [],
   "source": [
    "def get_n_recommendations(user_id, scores, n_recommendations=7):\n",
    "    scores = scores[scores.uid == user_id]\n",
    "    count = min(scores.shape[0], n_recommendations)\n",
    "    cols_tokeep = [\"est\", \"product_id\", \"brand_id\", \"product_category_id\", \"price_bin\", \"item_name_lower\" ]\n",
    "    col_names = [\"Rating Estimate\", \"Product ID\", \"Brand\", \"Category\", \"Price Bin\", \"Descr\"]\n",
    "    temp_df = scores.sort_values(\"est\", ascending=False).head(count).rename(columns={\"iid\":\"product_id\"}).merge(products, on=\"product_id\")[cols_tokeep]\n",
    "    temp_df.columns = col_names\n",
    "    return temp_df"
   ]
  },
  {
   "cell_type": "code",
   "execution_count": 15,
   "metadata": {},
   "outputs": [],
   "source": [
    "def get_n_recommendations_cat(user_id, scores, n_recommendations=7):\n",
    "    scores = scores[scores.uid == user_id]\n",
    "    count = min(scores.shape[0], n_recommendations)\n",
    "    cols_tokeep = [\"est\", \"iid\"]\n",
    "    col_names = [\"Rating Estimate\", \"Store - Category\"]\n",
    "    temp_df = scores.sort_values(\"est\", ascending=False).head(count)[cols_tokeep]\n",
    "    temp_df.columns = col_names\n",
    "    return temp_df"
   ]
  },
  {
   "cell_type": "code",
   "execution_count": 17,
   "metadata": {},
   "outputs": [],
   "source": [
    "reader = Reader()"
   ]
  },
  {
   "cell_type": "code",
   "execution_count": 19,
   "metadata": {},
   "outputs": [
    {
     "name": "stdout",
     "output_type": "stream",
     "text": [
      "3.2708586847752663\n",
      "1.6841220538437354\n",
      "{'n_epochs': 5, 'lr_all': 0.00311356783919598, 'reg_all': 0.4141414141414142, 'random_state': 35}\n",
      "{'n_epochs': 5, 'lr_all': 0.00311356783919598, 'reg_all': 0.4141414141414142, 'random_state': 35}\n",
      "0.14383701408289076\n",
      "0.03662271750792514\n",
      "{'n_epochs': 5, 'lr_all': 0.008136180904522613, 'reg_all': 0.7777777777777778, 'random_state': 35}\n",
      "{'n_epochs': 5, 'lr_all': 0.008136180904522613, 'reg_all': 0.7777777777777778, 'random_state': 35}\n"
     ]
    }
   ],
   "source": [
    "data1 = Dataset.load_from_df(x1,reader)\n",
    "data2 = Dataset.load_from_df(x2,reader)\n",
    "\n",
    "def trainSVD(data, algo=\"SVD\"):\n",
    "    param_grid = {'n_epochs': [5, 10, 15], 'lr_all': np.linspace(1e-4,2e-1,200),\n",
    "              'reg_all': np.linspace(0,1,100),\n",
    "              'random_state':[35]\n",
    "             }\n",
    "    \n",
    "    gs = RandomizedSearchCV(SVDpp, param_grid, measures=['rmse', 'mae'], cv=3, refit=True,n_jobs=-1, n_iter=5)\n",
    "    gs.fit(data)\n",
    "\n",
    "    # best RMSE score\n",
    "    print(gs.best_score['rmse'])\n",
    "    print(gs.best_score['mae'])\n",
    "\n",
    "    # combination of parameters that gave the best RMSE score\n",
    "    print(gs.best_params['rmse'])\n",
    "    print(gs.best_params['mae'])\n",
    "\n",
    "    train_set = data.build_full_trainset()\n",
    "    all_set = train_set.build_testset()\n",
    "    anti_set = train_set.build_anti_testset()\n",
    "    all_scores = pd.DataFrame(gs.test(all_set))\n",
    "    anti_scores = pd.DataFrame(gs.test(anti_set))\n",
    "    \n",
    "    all_scores[\"algorithm\"] = algo\n",
    "    anti_scores[\"algorithm\"] = algo    \n",
    "    \n",
    "    all_scores[\"score_type\"] = \"known\"\n",
    "    anti_scores[\"score_type\"] = \"anti\"        \n",
    "    \n",
    "    return (all_scores, anti_scores)\n",
    "\n",
    "all_s1, anti_s1 = trainSVD(data1)\n",
    "all_s2, anti_s2 = trainSVD(data2)\n",
    "\n",
    "\n",
    "\n",
    "\n"
   ]
  },
  {
   "cell_type": "code",
   "execution_count": 23,
   "metadata": {},
   "outputs": [],
   "source": [
    "all_s1[\"base\"] = \"store_cat\"\n",
    "all_s2[\"base\"] = \"product\"\n",
    "anti_s1[\"base\"] = \"store_cat\"\n",
    "anti_s2[\"base\"] = \"product\""
   ]
  },
  {
   "cell_type": "code",
   "execution_count": 24,
   "metadata": {},
   "outputs": [
    {
     "name": "stdout",
     "output_type": "stream",
     "text": [
      "             uid                           iid  r_ui       est  \\\n",
      "0  1485369350003   dsw - 210 - Boots & Booties   2.0  2.551585   \n",
      "1  1485369350003              hm - 124 - Jeans   1.0  2.678500   \n",
      "2  1485369350003  jcrewfactory - 111 - Blouses   1.0  2.606214   \n",
      "3  1485369350003    jcrewfactory - 114 - Knits   1.0  2.605062   \n",
      "4  1485369350003          loft - 111 - Blouses   5.0  3.260074   \n",
      "\n",
      "                     details algorithm score_type       base  \n",
      "0  {'was_impossible': False}       SVD      known  store_cat  \n",
      "1  {'was_impossible': False}       SVD      known  store_cat  \n",
      "2  {'was_impossible': False}       SVD      known  store_cat  \n",
      "3  {'was_impossible': False}       SVD      known  store_cat  \n",
      "4  {'was_impossible': False}       SVD      known  store_cat  \n",
      "             uid       iid  r_ui       est                    details  \\\n",
      "0  1485369350003  00799605   1.0  1.035169  {'was_impossible': False}   \n",
      "1  1485369350003  01c00a9f   1.0  1.040048  {'was_impossible': False}   \n",
      "2  1485369350003  1389d2dd   1.0  1.038803  {'was_impossible': False}   \n",
      "3  1485369350003  1ff87a10   1.0  1.032350  {'was_impossible': False}   \n",
      "4  1485369350003  23583555   1.0  1.039443  {'was_impossible': False}   \n",
      "\n",
      "  algorithm score_type     base  \n",
      "0       SVD      known  product  \n",
      "1       SVD      known  product  \n",
      "2       SVD      known  product  \n",
      "3       SVD      known  product  \n",
      "4       SVD      known  product  \n",
      "             uid                               iid      r_ui       est  \\\n",
      "0  1485369350003  abercrombiefitch - 111 - Blouses  2.333227  2.766107   \n",
      "1  1485369350003      anthropologie - 141 - Casual  2.333227  2.901285   \n",
      "2  1485369350003              asos - 111 - Blouses  2.333227  2.671932   \n",
      "3  1485369350003              asos - 430 - Scarves  2.333227  2.636127   \n",
      "4  1485369350003        athleta - 160 - Activewear  2.333227  3.048929   \n",
      "\n",
      "                     details algorithm score_type       base  \n",
      "0  {'was_impossible': False}       SVD       anti  store_cat  \n",
      "1  {'was_impossible': False}       SVD       anti  store_cat  \n",
      "2  {'was_impossible': False}       SVD       anti  store_cat  \n",
      "3  {'was_impossible': False}       SVD       anti  store_cat  \n",
      "4  {'was_impossible': False}       SVD       anti  store_cat  \n",
      "             uid       iid      r_ui       est                    details  \\\n",
      "0  1485369350003  054ece4c  1.018336  1.044219  {'was_impossible': False}   \n",
      "1  1485369350003  082e751f  1.018336  1.034233  {'was_impossible': False}   \n",
      "2  1485369350003  082e766a  1.018336  1.031807  {'was_impossible': False}   \n",
      "3  1485369350003  082e7792  1.018336  1.038770  {'was_impossible': False}   \n",
      "4  1485369350003  08cb82ea  1.018336  1.035845  {'was_impossible': False}   \n",
      "\n",
      "  algorithm score_type     base  \n",
      "0       SVD       anti  product  \n",
      "1       SVD       anti  product  \n",
      "2       SVD       anti  product  \n",
      "3       SVD       anti  product  \n",
      "4       SVD       anti  product  \n"
     ]
    }
   ],
   "source": [
    "print(all_s1.head())\n",
    "print(all_s2.head())\n",
    "print(anti_s1.head())\n",
    "print(anti_s2.head())"
   ]
  },
  {
   "cell_type": "code",
   "execution_count": 30,
   "metadata": {},
   "outputs": [],
   "source": [
    "all_scores = all_s1.append(anti_s1).append(all_s2).append(anti_s2)\n",
    "all_scores.drop(\"details\", axis=1, inplace=True)"
   ]
  },
  {
   "cell_type": "code",
   "execution_count": 31,
   "metadata": {},
   "outputs": [
    {
     "data": {
      "text/html": [
       "<div>\n",
       "<style scoped>\n",
       "    .dataframe tbody tr th:only-of-type {\n",
       "        vertical-align: middle;\n",
       "    }\n",
       "\n",
       "    .dataframe tbody tr th {\n",
       "        vertical-align: top;\n",
       "    }\n",
       "\n",
       "    .dataframe thead th {\n",
       "        text-align: right;\n",
       "    }\n",
       "</style>\n",
       "<table border=\"1\" class=\"dataframe\">\n",
       "  <thead>\n",
       "    <tr style=\"text-align: right;\">\n",
       "      <th></th>\n",
       "      <th>uid</th>\n",
       "      <th>iid</th>\n",
       "      <th>r_ui</th>\n",
       "      <th>est</th>\n",
       "      <th>algorithm</th>\n",
       "      <th>score_type</th>\n",
       "      <th>base</th>\n",
       "    </tr>\n",
       "  </thead>\n",
       "  <tbody>\n",
       "    <tr>\n",
       "      <th>507074</th>\n",
       "      <td>1539389830936</td>\n",
       "      <td>2a5226c2</td>\n",
       "      <td>1.018336</td>\n",
       "      <td>1.000000</td>\n",
       "      <td>SVD</td>\n",
       "      <td>anti</td>\n",
       "      <td>product</td>\n",
       "    </tr>\n",
       "    <tr>\n",
       "      <th>59733</th>\n",
       "      <td>1504480921172</td>\n",
       "      <td>3409260e</td>\n",
       "      <td>1.018336</td>\n",
       "      <td>1.000000</td>\n",
       "      <td>SVD</td>\n",
       "      <td>anti</td>\n",
       "      <td>product</td>\n",
       "    </tr>\n",
       "    <tr>\n",
       "      <th>94868</th>\n",
       "      <td>1514587641548</td>\n",
       "      <td>14669350</td>\n",
       "      <td>1.018336</td>\n",
       "      <td>1.021382</td>\n",
       "      <td>SVD</td>\n",
       "      <td>anti</td>\n",
       "      <td>product</td>\n",
       "    </tr>\n",
       "    <tr>\n",
       "      <th>238466</th>\n",
       "      <td>1531873923973</td>\n",
       "      <td>62553220</td>\n",
       "      <td>1.018336</td>\n",
       "      <td>1.038686</td>\n",
       "      <td>SVD</td>\n",
       "      <td>anti</td>\n",
       "      <td>product</td>\n",
       "    </tr>\n",
       "    <tr>\n",
       "      <th>315068</th>\n",
       "      <td>1534274912488</td>\n",
       "      <td>2a6bce45</td>\n",
       "      <td>1.018336</td>\n",
       "      <td>1.024356</td>\n",
       "      <td>SVD</td>\n",
       "      <td>anti</td>\n",
       "      <td>product</td>\n",
       "    </tr>\n",
       "    <tr>\n",
       "      <th>123546</th>\n",
       "      <td>1517962134688</td>\n",
       "      <td>26143242</td>\n",
       "      <td>1.018336</td>\n",
       "      <td>1.011149</td>\n",
       "      <td>SVD</td>\n",
       "      <td>anti</td>\n",
       "      <td>product</td>\n",
       "    </tr>\n",
       "    <tr>\n",
       "      <th>56918</th>\n",
       "      <td>1504480921172</td>\n",
       "      <td>4f652627</td>\n",
       "      <td>1.018336</td>\n",
       "      <td>1.000000</td>\n",
       "      <td>SVD</td>\n",
       "      <td>anti</td>\n",
       "      <td>product</td>\n",
       "    </tr>\n",
       "    <tr>\n",
       "      <th>545985</th>\n",
       "      <td>1541215258673</td>\n",
       "      <td>d2771016</td>\n",
       "      <td>1.018336</td>\n",
       "      <td>1.033557</td>\n",
       "      <td>SVD</td>\n",
       "      <td>anti</td>\n",
       "      <td>product</td>\n",
       "    </tr>\n",
       "    <tr>\n",
       "      <th>566301</th>\n",
       "      <td>1542061238350</td>\n",
       "      <td>5b002741</td>\n",
       "      <td>1.018336</td>\n",
       "      <td>1.014132</td>\n",
       "      <td>SVD</td>\n",
       "      <td>anti</td>\n",
       "      <td>product</td>\n",
       "    </tr>\n",
       "    <tr>\n",
       "      <th>569880</th>\n",
       "      <td>1542061238350</td>\n",
       "      <td>35328195</td>\n",
       "      <td>1.018336</td>\n",
       "      <td>1.008850</td>\n",
       "      <td>SVD</td>\n",
       "      <td>anti</td>\n",
       "      <td>product</td>\n",
       "    </tr>\n",
       "  </tbody>\n",
       "</table>\n",
       "</div>"
      ],
      "text/plain": [
       "                  uid       iid      r_ui       est algorithm score_type  \\\n",
       "507074  1539389830936  2a5226c2  1.018336  1.000000       SVD       anti   \n",
       "59733   1504480921172  3409260e  1.018336  1.000000       SVD       anti   \n",
       "94868   1514587641548  14669350  1.018336  1.021382       SVD       anti   \n",
       "238466  1531873923973  62553220  1.018336  1.038686       SVD       anti   \n",
       "315068  1534274912488  2a6bce45  1.018336  1.024356       SVD       anti   \n",
       "123546  1517962134688  26143242  1.018336  1.011149       SVD       anti   \n",
       "56918   1504480921172  4f652627  1.018336  1.000000       SVD       anti   \n",
       "545985  1541215258673  d2771016  1.018336  1.033557       SVD       anti   \n",
       "566301  1542061238350  5b002741  1.018336  1.014132       SVD       anti   \n",
       "569880  1542061238350  35328195  1.018336  1.008850       SVD       anti   \n",
       "\n",
       "           base  \n",
       "507074  product  \n",
       "59733   product  \n",
       "94868   product  \n",
       "238466  product  \n",
       "315068  product  \n",
       "123546  product  \n",
       "56918   product  \n",
       "545985  product  \n",
       "566301  product  \n",
       "569880  product  "
      ]
     },
     "execution_count": 31,
     "metadata": {},
     "output_type": "execute_result"
    }
   ],
   "source": [
    "all_scores.sample(10)"
   ]
  },
  {
   "cell_type": "code",
   "execution_count": 32,
   "metadata": {},
   "outputs": [],
   "source": [
    "all_scores.to_csv(\"../..//data/processed/all_reco_scores.csv\",index=False)"
   ]
  },
  {
   "cell_type": "code",
   "execution_count": null,
   "metadata": {},
   "outputs": [],
   "source": []
  }
 ],
 "metadata": {
  "kernelspec": {
   "display_name": "Python 3",
   "language": "python",
   "name": "python3"
  },
  "language_info": {
   "codemirror_mode": {
    "name": "ipython",
    "version": 3
   },
   "file_extension": ".py",
   "mimetype": "text/x-python",
   "name": "python",
   "nbconvert_exporter": "python",
   "pygments_lexer": "ipython3",
   "version": "3.7.2"
  }
 },
 "nbformat": 4,
 "nbformat_minor": 2
}
